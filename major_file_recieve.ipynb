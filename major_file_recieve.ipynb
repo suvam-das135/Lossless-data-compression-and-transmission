{
 "cells": [
  {
   "cell_type": "markdown",
   "source": [
    "## FILE RECEIVING"
   ],
   "metadata": {
    "collapsed": false,
    "pycharm": {
     "name": "#%% md\n"
    }
   }
  },
  {
   "cell_type": "code",
   "execution_count": null,
   "outputs": [],
   "source": [
    "import socket\n",
    "import tqdm\n",
    "import os\n",
    "import pickle\n",
    "\n",
    "SERVER_HOST = \"\"\n",
    "SERVER_PORT = 5555\n",
    "BUFFER_SIZE = 4096\n",
    "SEPARATOR = \"<SEPARATOR>\"\n",
    "\n",
    "s = socket.socket()\n",
    "s.bind((SERVER_HOST, SERVER_PORT))\n",
    "s.listen(10)\n",
    "print(f\"[*] Listening as {SERVER_HOST}:{SERVER_PORT}\")\n",
    "print(\"Waiting for the client to connect... \")\n",
    "client_socket, address = s.accept()\n",
    "print(f\"[+] {address} is connected.\")\n",
    "received = client_socket.recv(BUFFER_SIZE).decode()\n",
    "filename, filesize = received.split(SEPARATOR)\n",
    "filename = os.path.basename(filename)\n",
    "filesize = int(filesize)\n",
    "progress = tqdm.tqdm(range(filesize), f\"Receiving {filename}\", unit=\"B\", unit_scale=True, unit_divisor=1024, mininterval = 0, miniters = 0)\n",
    "with open(filename, \"wb\") as f:\n",
    "    while True:\n",
    "        bytes_read = client_socket.recv(BUFFER_SIZE)\n",
    "        progress.update(len(bytes_read))\n",
    "        if not bytes_read:\n",
    "            break\n",
    "        f.write(bytes_read)\n",
    "client_socket.close()\n",
    "s.close()\n",
    "\n",
    "#receiving message length\n",
    "s = socket.socket()\n",
    "s.bind((SERVER_HOST, SERVER_PORT))\n",
    "s.listen(10)\n",
    "print(f\"Receiving Message Length now...\")\n",
    "client_socket, address = s.accept()\n",
    "length = client_socket.recv(BUFFER_SIZE).decode()\n",
    "length = int(length)\n",
    "print(f\"Message length = {length} successfully received.\")\n",
    "client_socket.close()\n",
    "s.close()\n",
    "\n",
    "#receiving decryption key\n",
    "s = socket.socket()\n",
    "s.bind((SERVER_HOST, SERVER_PORT))\n",
    "s.listen(10)\n",
    "print(f\"Receiving key now...\")\n",
    "client_socket, address = s.accept()\n",
    "key = client_socket.recv(BUFFER_SIZE).decode()\n",
    "key = int(key)\n",
    "print(f\"key = {key} successfully received.\")\n",
    "client_socket.close()\n",
    "s.close()\n",
    "\n",
    "#receiving frequency table\n",
    "s = socket.socket()\n",
    "s.bind((SERVER_HOST, SERVER_PORT))\n",
    "s.listen(10)\n",
    "print(f\"Receiving probability table now...\")\n",
    "client_socket, address = s.accept()\n",
    "dictie = client_socket.recv(BUFFER_SIZE)\n",
    "dictie = pickle.loads(dictie)\n",
    "print(f\"probability table successfully received.\")\n",
    "print(dictie)\n",
    "client_socket.close()\n",
    "s.close()"
   ],
   "metadata": {
    "collapsed": false,
    "pycharm": {
     "name": "#%%\n"
    }
   }
  },
  {
   "cell_type": "markdown",
   "source": [
    "## ARITHMETIC ENCODING-DECODING(COMPRESSION)"
   ],
   "metadata": {
    "collapsed": false,
    "pycharm": {
     "name": "#%% md\n"
    }
   }
  },
  {
   "cell_type": "code",
   "execution_count": null,
   "metadata": {
    "collapsed": true,
    "pycharm": {
     "name": "#%%\n"
    }
   },
   "outputs": [],
   "source": [
    "from decimal import Decimal\n",
    "\n",
    "\n",
    "class ArithmeticEncoding:\n",
    "\n",
    "\n",
    "    def __init__(self, frequency_table, save_stages=False):\n",
    "\n",
    "        self.save_stages = save_stages\n",
    "        if (save_stages == True):\n",
    "            print(\"WARNING: Setting save_stages=True may cause memory overflow if the message is large.\")\n",
    "\n",
    "        self.probability_table = self.get_probability_table(frequency_table)\n",
    "\n",
    "    def get_probability_table(self, frequency_table):\n",
    "\n",
    "        total_frequency = sum(list(frequency_table.values()))\n",
    "\n",
    "        probability_table = {}\n",
    "        for key, value in frequency_table.items():\n",
    "            probability_table[key] = value / total_frequency\n",
    "\n",
    "        return probability_table\n",
    "\n",
    "    def get_encoded_value(self, last_stage_probs):\n",
    "\n",
    "        last_stage_probs = list(last_stage_probs.values())\n",
    "        last_stage_values = []\n",
    "        for sublist in last_stage_probs:\n",
    "            for element in sublist:\n",
    "                last_stage_values.append(element)\n",
    "\n",
    "        last_stage_min = min(last_stage_values)\n",
    "        last_stage_max = max(last_stage_values)\n",
    "        encoded_value = (last_stage_min + last_stage_max) / 2\n",
    "\n",
    "        return last_stage_min, last_stage_max, encoded_value\n",
    "\n",
    "    def process_stage(self, probability_table, stage_min, stage_max):\n",
    "\n",
    "        stage_probs = {}\n",
    "        stage_domain = stage_max - stage_min\n",
    "        for term_idx in range(len(probability_table.items())):\n",
    "            term = list(probability_table.keys())[term_idx]\n",
    "            term_prob = Decimal(probability_table[term])\n",
    "            cum_prob = term_prob * stage_domain + stage_min\n",
    "            stage_probs[term] = [stage_min, cum_prob]\n",
    "            stage_min = cum_prob\n",
    "        return stage_probs\n",
    "\n",
    "    def encode(self, msg, probability_table):\n",
    "\n",
    "        msg = list(msg)\n",
    "\n",
    "        encoder = []\n",
    "\n",
    "        stage_min = Decimal(0.0)\n",
    "        stage_max = Decimal(1.0)\n",
    "\n",
    "        for msg_term_idx in range(len(msg)):\n",
    "            stage_probs = self.process_stage(probability_table, stage_min, stage_max)\n",
    "\n",
    "            msg_term = msg[msg_term_idx]\n",
    "            stage_min = stage_probs[msg_term][0]\n",
    "            stage_max = stage_probs[msg_term][1]\n",
    "\n",
    "            if self.save_stages:\n",
    "                encoder.append(stage_probs)\n",
    "\n",
    "        last_stage_probs = self.process_stage(probability_table, stage_min, stage_max)\n",
    "\n",
    "        if self.save_stages:\n",
    "            encoder.append(last_stage_probs)\n",
    "\n",
    "        interval_min_value, interval_max_value, encoded_msg = self.get_encoded_value(last_stage_probs)\n",
    "\n",
    "        return encoded_msg, encoder, interval_min_value, interval_max_value\n",
    "\n",
    "\n",
    "    def decode(self, encoded_msg, msg_length, probability_table):\n",
    "\n",
    "        decoder = []\n",
    "\n",
    "        decoded_msg = []\n",
    "\n",
    "        stage_min = Decimal(0.0)\n",
    "        stage_max = Decimal(1.0)\n",
    "\n",
    "        for idx in range(msg_length):\n",
    "            stage_probs = self.process_stage(probability_table, stage_min, stage_max)\n",
    "\n",
    "            for msg_term, value in stage_probs.items():\n",
    "                if encoded_msg >= value[0] and encoded_msg <= value[1]:\n",
    "                    break\n",
    "\n",
    "            decoded_msg.append(msg_term)\n",
    "\n",
    "            stage_min = stage_probs[msg_term][0]\n",
    "            stage_max = stage_probs[msg_term][1]\n",
    "\n",
    "            if self.save_stages:\n",
    "                decoder.append(stage_probs)\n",
    "\n",
    "        if self.save_stages:\n",
    "            last_stage_probs = self.process_stage(probability_table, stage_min, stage_max)\n",
    "            decoder.append(last_stage_probs)\n",
    "\n",
    "        return decoded_msg, decoder\n"
   ]
  },
  {
   "cell_type": "markdown",
   "source": [
    "## DECRYPTION"
   ],
   "metadata": {
    "collapsed": false,
    "pycharm": {
     "name": "#%% md\n"
    }
   }
  },
  {
   "cell_type": "code",
   "execution_count": null,
   "outputs": [],
   "source": [
    "def decryptRailFence(cipher, key):\n",
    "\n",
    "    # create the matrix to cipher\n",
    "    # plain text key = rows ,\n",
    "    # length(text) = columns\n",
    "    # filling the rail matrix to\n",
    "    # distinguish filled spaces\n",
    "    # from blank ones\n",
    "    rail = [['\\n' for i in range(len(cipher))]\n",
    "            for j in range(key)]\n",
    "\n",
    "    # to find the direction\n",
    "    dir_down = None\n",
    "    row, col = 0, 0\n",
    "\n",
    "    # mark the places with '*'\n",
    "    for i in range(len(cipher)):\n",
    "        if row == 0:\n",
    "            dir_down = True\n",
    "        if row == key - 1:\n",
    "            dir_down = False\n",
    "\n",
    "        # place the marker\n",
    "        rail[row][col] = '*'\n",
    "        col += 1\n",
    "\n",
    "        # find the next row\n",
    "        # using direction flag\n",
    "        if dir_down:\n",
    "            row += 1\n",
    "        else:\n",
    "            row -= 1\n",
    "\n",
    "    # now we can construct the\n",
    "    # fill the rail matrix\n",
    "    index = 0\n",
    "    for i in range(key):\n",
    "        for j in range(len(cipher)):\n",
    "            if ((rail[i][j] == '*') and\n",
    "                    (index < len(cipher))):\n",
    "                rail[i][j] = cipher[index]\n",
    "                index += 1\n",
    "\n",
    "    # now read the matrix in\n",
    "    # zig-zag manner to construct\n",
    "    # the resultant text\n",
    "    result = []\n",
    "    row, col = 0, 0\n",
    "    for i in range(len(cipher)):\n",
    "\n",
    "        # check the direction of flow\n",
    "        if row == 0:\n",
    "            dir_down = True\n",
    "        if row == key-1:\n",
    "            dir_down = False\n",
    "\n",
    "        # place the marker\n",
    "        if (rail[row][col] != '*'):\n",
    "            result.append(rail[row][col])\n",
    "            col += 1\n",
    "\n",
    "        # find the next row using\n",
    "        # direction flag\n",
    "        if dir_down:\n",
    "            row += 1\n",
    "        else:\n",
    "            row -= 1\n",
    "    return(\"\".join(result))"
   ],
   "metadata": {
    "collapsed": false,
    "pycharm": {
     "name": "#%%\n"
    }
   }
  },
  {
   "cell_type": "markdown",
   "source": [
    "# FUNCTION CALL"
   ],
   "metadata": {
    "collapsed": false,
    "pycharm": {
     "name": "#%% md\n"
    }
   }
  },
  {
   "cell_type": "code",
   "execution_count": null,
   "outputs": [],
   "source": [
    "with open('compressed.txt', 'r') as file:\n",
    "    data = file.read().rstrip()"
   ],
   "metadata": {
    "collapsed": false,
    "pycharm": {
     "name": "#%%\n"
    }
   }
  },
  {
   "cell_type": "code",
   "execution_count": null,
   "outputs": [],
   "source": [
    "decoded_msg, decoder = ArithmeticEncoding.decode(encoded_msg=data,\n",
    "                                 msg_length=length,\n",
    "                                 probability_table=dictie)\n",
    "decoded_msg = \"\".join(decoded_msg)\n",
    "#print(\"Message Decoded Successfully? {result}\".format(result=original_msg == decoded_msg))"
   ],
   "metadata": {
    "collapsed": false,
    "pycharm": {
     "name": "#%%\n"
    }
   }
  },
  {
   "cell_type": "code",
   "execution_count": null,
   "outputs": [],
   "source": [
    "decr = decryptRailFence(decoded_msg, key)"
   ],
   "metadata": {
    "collapsed": false,
    "pycharm": {
     "name": "#%%\n"
    }
   }
  },
  {
   "cell_type": "code",
   "execution_count": null,
   "outputs": [],
   "source": [
    "decr"
   ],
   "metadata": {
    "collapsed": false,
    "pycharm": {
     "name": "#%%\n"
    }
   }
  }
 ],
 "metadata": {
  "kernelspec": {
   "display_name": "Python 3",
   "language": "python",
   "name": "python3"
  },
  "language_info": {
   "codemirror_mode": {
    "name": "ipython",
    "version": 2
   },
   "file_extension": ".py",
   "mimetype": "text/x-python",
   "name": "python",
   "nbconvert_exporter": "python",
   "pygments_lexer": "ipython2",
   "version": "2.7.6"
  }
 },
 "nbformat": 4,
 "nbformat_minor": 0
}